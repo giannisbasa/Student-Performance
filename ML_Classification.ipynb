{
 "cells": [
  {
   "cell_type": "markdown",
   "metadata": {},
   "source": [
    "#### Load Libraries"
   ]
  },
  {
   "cell_type": "code",
   "execution_count": 1,
   "metadata": {},
   "outputs": [],
   "source": [
    "import pandas as pd\n",
    "import matplotlib.pyplot as plt\n",
    "import seaborn as sns\n",
    "import math\n",
    "\n",
    "from sklearn.preprocessing import LabelEncoder, MinMaxScaler\n",
    "from sklearn.model_selection import train_test_split\n",
    "from sklearn.linear_model import LogisticRegression\n",
    "from sklearn.metrics import accuracy_score, confusion_matrix\n",
    "from sklearn.ensemble import RandomForestClassifier\n",
    "from sklearn.neighbors import KNeighborsClassifier\n",
    "from sklearn.tree import DecisionTreeClassifier\n",
    "\n",
    "import warnings\n",
    "warnings.filterwarnings('ignore')"
   ]
  },
  {
   "cell_type": "markdown",
   "metadata": {},
   "source": [
    "#### Load Data"
   ]
  },
  {
   "cell_type": "code",
   "execution_count": 2,
   "metadata": {},
   "outputs": [
    {
     "data": {
      "text/html": [
       "<div>\n",
       "<style scoped>\n",
       "    .dataframe tbody tr th:only-of-type {\n",
       "        vertical-align: middle;\n",
       "    }\n",
       "\n",
       "    .dataframe tbody tr th {\n",
       "        vertical-align: top;\n",
       "    }\n",
       "\n",
       "    .dataframe thead th {\n",
       "        text-align: right;\n",
       "    }\n",
       "</style>\n",
       "<table border=\"1\" class=\"dataframe\">\n",
       "  <thead>\n",
       "    <tr style=\"text-align: right;\">\n",
       "      <th></th>\n",
       "      <th>gender</th>\n",
       "      <th>race/ethnicity</th>\n",
       "      <th>parental level of education</th>\n",
       "      <th>lunch</th>\n",
       "      <th>test preparation course</th>\n",
       "      <th>math score</th>\n",
       "      <th>reading score</th>\n",
       "      <th>writing score</th>\n",
       "      <th>overall</th>\n",
       "      <th>math_pass</th>\n",
       "      <th>reading_pass</th>\n",
       "      <th>writing_pass</th>\n",
       "      <th>status</th>\n",
       "    </tr>\n",
       "  </thead>\n",
       "  <tbody>\n",
       "    <tr>\n",
       "      <td>0</td>\n",
       "      <td>female</td>\n",
       "      <td>group B</td>\n",
       "      <td>bachelor's degree</td>\n",
       "      <td>standard</td>\n",
       "      <td>none</td>\n",
       "      <td>72</td>\n",
       "      <td>72</td>\n",
       "      <td>74</td>\n",
       "      <td>73</td>\n",
       "      <td>Pass</td>\n",
       "      <td>Pass</td>\n",
       "      <td>Pass</td>\n",
       "      <td>Pass</td>\n",
       "    </tr>\n",
       "    <tr>\n",
       "      <td>1</td>\n",
       "      <td>female</td>\n",
       "      <td>group C</td>\n",
       "      <td>some college</td>\n",
       "      <td>standard</td>\n",
       "      <td>completed</td>\n",
       "      <td>69</td>\n",
       "      <td>90</td>\n",
       "      <td>88</td>\n",
       "      <td>82</td>\n",
       "      <td>Pass</td>\n",
       "      <td>Pass</td>\n",
       "      <td>Pass</td>\n",
       "      <td>Pass</td>\n",
       "    </tr>\n",
       "    <tr>\n",
       "      <td>2</td>\n",
       "      <td>female</td>\n",
       "      <td>group B</td>\n",
       "      <td>master's degree</td>\n",
       "      <td>standard</td>\n",
       "      <td>none</td>\n",
       "      <td>90</td>\n",
       "      <td>95</td>\n",
       "      <td>93</td>\n",
       "      <td>93</td>\n",
       "      <td>Pass</td>\n",
       "      <td>Pass</td>\n",
       "      <td>Pass</td>\n",
       "      <td>Pass</td>\n",
       "    </tr>\n",
       "    <tr>\n",
       "      <td>3</td>\n",
       "      <td>male</td>\n",
       "      <td>group A</td>\n",
       "      <td>associate's degree</td>\n",
       "      <td>free/reduced</td>\n",
       "      <td>none</td>\n",
       "      <td>47</td>\n",
       "      <td>57</td>\n",
       "      <td>44</td>\n",
       "      <td>49</td>\n",
       "      <td>Fail</td>\n",
       "      <td>Pass</td>\n",
       "      <td>Fail</td>\n",
       "      <td>Fail</td>\n",
       "    </tr>\n",
       "    <tr>\n",
       "      <td>4</td>\n",
       "      <td>male</td>\n",
       "      <td>group C</td>\n",
       "      <td>some college</td>\n",
       "      <td>standard</td>\n",
       "      <td>none</td>\n",
       "      <td>76</td>\n",
       "      <td>78</td>\n",
       "      <td>75</td>\n",
       "      <td>76</td>\n",
       "      <td>Pass</td>\n",
       "      <td>Pass</td>\n",
       "      <td>Pass</td>\n",
       "      <td>Pass</td>\n",
       "    </tr>\n",
       "  </tbody>\n",
       "</table>\n",
       "</div>"
      ],
      "text/plain": [
       "   gender race/ethnicity parental level of education         lunch  \\\n",
       "0  female        group B           bachelor's degree      standard   \n",
       "1  female        group C                some college      standard   \n",
       "2  female        group B             master's degree      standard   \n",
       "3    male        group A          associate's degree  free/reduced   \n",
       "4    male        group C                some college      standard   \n",
       "\n",
       "  test preparation course  math score  reading score  writing score  overall  \\\n",
       "0                    none          72             72             74       73   \n",
       "1               completed          69             90             88       82   \n",
       "2                    none          90             95             93       93   \n",
       "3                    none          47             57             44       49   \n",
       "4                    none          76             78             75       76   \n",
       "\n",
       "  math_pass reading_pass writing_pass status  \n",
       "0      Pass         Pass         Pass   Pass  \n",
       "1      Pass         Pass         Pass   Pass  \n",
       "2      Pass         Pass         Pass   Pass  \n",
       "3      Fail         Pass         Fail   Fail  \n",
       "4      Pass         Pass         Pass   Pass  "
      ]
     },
     "execution_count": 2,
     "metadata": {},
     "output_type": "execute_result"
    }
   ],
   "source": [
    "df = pd.read_csv('students_performance_edit.csv')\n",
    "df.head()"
   ]
  },
  {
   "cell_type": "code",
   "execution_count": 3,
   "metadata": {},
   "outputs": [
    {
     "data": {
      "text/plain": [
       "gender                         object\n",
       "race/ethnicity                 object\n",
       "parental level of education    object\n",
       "lunch                          object\n",
       "test preparation course        object\n",
       "math score                      int64\n",
       "reading score                   int64\n",
       "writing score                   int64\n",
       "overall                         int64\n",
       "math_pass                      object\n",
       "reading_pass                   object\n",
       "writing_pass                   object\n",
       "status                         object\n",
       "dtype: object"
      ]
     },
     "execution_count": 3,
     "metadata": {},
     "output_type": "execute_result"
    }
   ],
   "source": [
    "df.dtypes"
   ]
  },
  {
   "cell_type": "markdown",
   "metadata": {},
   "source": [
    "#### Label Encoding"
   ]
  },
  {
   "cell_type": "code",
   "execution_count": 4,
   "metadata": {},
   "outputs": [],
   "source": [
    "data = df.copy()"
   ]
  },
  {
   "cell_type": "code",
   "execution_count": 5,
   "metadata": {},
   "outputs": [],
   "source": [
    "# creating an encoder\n",
    "le = LabelEncoder()\n",
    "\n",
    "# label encoding for gender\n",
    "data['gender'] = le.fit_transform(data['gender'])\n",
    "\n",
    "# label encoding for race / ethnicity\n",
    "data['race/ethnicity'] = data['race/ethnicity'].replace('group A', 1)\n",
    "data['race/ethnicity'] = data['race/ethnicity'].replace('group B', 1)\n",
    "data['race/ethnicity'] = data['race/ethnicity'].replace('group C', 1)\n",
    "data['race/ethnicity'] = data['race/ethnicity'].replace('group D', 1)\n",
    "data['race/ethnicity'] = data['race/ethnicity'].replace('group E', 1)\n",
    "\n",
    "# label encoding for parental level of education\n",
    "data['parental level of education'] = le.fit_transform(data['parental level of education'])\n",
    "\n",
    "# label encoding for lunch\n",
    "data['lunch'] = le.fit_transform(data['lunch'])\n",
    "\n",
    "# label encoding for test preparation course\n",
    "data['test preparation course'] = le.fit_transform(data['test preparation course'])\n",
    "\n",
    "# label encoding for math pass\n",
    "data['math_pass'] = le.fit_transform(data['math_pass'])\n",
    "\n",
    "# label encoding for reading pass\n",
    "data['reading_pass'] = le.fit_transform(data['reading_pass'])\n",
    "\n",
    "# label encoding for writing pass\n",
    "data['writing_pass'] = le.fit_transform(data['writing_pass'])\n",
    "\n",
    "# label encoding for status\n",
    "data['status'] = le.fit_transform(data['status'])"
   ]
  },
  {
   "cell_type": "code",
   "execution_count": 6,
   "metadata": {},
   "outputs": [
    {
     "data": {
      "text/html": [
       "<div>\n",
       "<style scoped>\n",
       "    .dataframe tbody tr th:only-of-type {\n",
       "        vertical-align: middle;\n",
       "    }\n",
       "\n",
       "    .dataframe tbody tr th {\n",
       "        vertical-align: top;\n",
       "    }\n",
       "\n",
       "    .dataframe thead th {\n",
       "        text-align: right;\n",
       "    }\n",
       "</style>\n",
       "<table border=\"1\" class=\"dataframe\">\n",
       "  <thead>\n",
       "    <tr style=\"text-align: right;\">\n",
       "      <th></th>\n",
       "      <th>gender</th>\n",
       "      <th>race/ethnicity</th>\n",
       "      <th>parental level of education</th>\n",
       "      <th>lunch</th>\n",
       "      <th>test preparation course</th>\n",
       "      <th>math score</th>\n",
       "      <th>reading score</th>\n",
       "      <th>writing score</th>\n",
       "      <th>overall</th>\n",
       "      <th>math_pass</th>\n",
       "      <th>reading_pass</th>\n",
       "      <th>writing_pass</th>\n",
       "      <th>status</th>\n",
       "    </tr>\n",
       "  </thead>\n",
       "  <tbody>\n",
       "    <tr>\n",
       "      <td>0</td>\n",
       "      <td>0</td>\n",
       "      <td>1</td>\n",
       "      <td>1</td>\n",
       "      <td>1</td>\n",
       "      <td>1</td>\n",
       "      <td>72</td>\n",
       "      <td>72</td>\n",
       "      <td>74</td>\n",
       "      <td>73</td>\n",
       "      <td>1</td>\n",
       "      <td>1</td>\n",
       "      <td>1</td>\n",
       "      <td>1</td>\n",
       "    </tr>\n",
       "    <tr>\n",
       "      <td>1</td>\n",
       "      <td>0</td>\n",
       "      <td>1</td>\n",
       "      <td>4</td>\n",
       "      <td>1</td>\n",
       "      <td>0</td>\n",
       "      <td>69</td>\n",
       "      <td>90</td>\n",
       "      <td>88</td>\n",
       "      <td>82</td>\n",
       "      <td>1</td>\n",
       "      <td>1</td>\n",
       "      <td>1</td>\n",
       "      <td>1</td>\n",
       "    </tr>\n",
       "    <tr>\n",
       "      <td>2</td>\n",
       "      <td>0</td>\n",
       "      <td>1</td>\n",
       "      <td>3</td>\n",
       "      <td>1</td>\n",
       "      <td>1</td>\n",
       "      <td>90</td>\n",
       "      <td>95</td>\n",
       "      <td>93</td>\n",
       "      <td>93</td>\n",
       "      <td>1</td>\n",
       "      <td>1</td>\n",
       "      <td>1</td>\n",
       "      <td>1</td>\n",
       "    </tr>\n",
       "    <tr>\n",
       "      <td>3</td>\n",
       "      <td>1</td>\n",
       "      <td>1</td>\n",
       "      <td>0</td>\n",
       "      <td>0</td>\n",
       "      <td>1</td>\n",
       "      <td>47</td>\n",
       "      <td>57</td>\n",
       "      <td>44</td>\n",
       "      <td>49</td>\n",
       "      <td>0</td>\n",
       "      <td>1</td>\n",
       "      <td>0</td>\n",
       "      <td>0</td>\n",
       "    </tr>\n",
       "    <tr>\n",
       "      <td>4</td>\n",
       "      <td>1</td>\n",
       "      <td>1</td>\n",
       "      <td>4</td>\n",
       "      <td>1</td>\n",
       "      <td>1</td>\n",
       "      <td>76</td>\n",
       "      <td>78</td>\n",
       "      <td>75</td>\n",
       "      <td>76</td>\n",
       "      <td>1</td>\n",
       "      <td>1</td>\n",
       "      <td>1</td>\n",
       "      <td>1</td>\n",
       "    </tr>\n",
       "  </tbody>\n",
       "</table>\n",
       "</div>"
      ],
      "text/plain": [
       "   gender  race/ethnicity  parental level of education  lunch  \\\n",
       "0       0               1                            1      1   \n",
       "1       0               1                            4      1   \n",
       "2       0               1                            3      1   \n",
       "3       1               1                            0      0   \n",
       "4       1               1                            4      1   \n",
       "\n",
       "   test preparation course  math score  reading score  writing score  overall  \\\n",
       "0                        1          72             72             74       73   \n",
       "1                        0          69             90             88       82   \n",
       "2                        1          90             95             93       93   \n",
       "3                        1          47             57             44       49   \n",
       "4                        1          76             78             75       76   \n",
       "\n",
       "   math_pass  reading_pass  writing_pass  status  \n",
       "0          1             1             1       1  \n",
       "1          1             1             1       1  \n",
       "2          1             1             1       1  \n",
       "3          0             1             0       0  \n",
       "4          1             1             1       1  "
      ]
     },
     "execution_count": 6,
     "metadata": {},
     "output_type": "execute_result"
    }
   ],
   "source": [
    "# Checking the dataframe\n",
    "data.head()"
   ]
  },
  {
   "cell_type": "code",
   "execution_count": 7,
   "metadata": {},
   "outputs": [
    {
     "data": {
      "text/plain": [
       "gender                         int32\n",
       "race/ethnicity                 int64\n",
       "parental level of education    int32\n",
       "lunch                          int32\n",
       "test preparation course        int32\n",
       "math score                     int64\n",
       "reading score                  int64\n",
       "writing score                  int64\n",
       "overall                        int64\n",
       "math_pass                      int32\n",
       "reading_pass                   int32\n",
       "writing_pass                   int32\n",
       "status                         int32\n",
       "dtype: object"
      ]
     },
     "execution_count": 7,
     "metadata": {},
     "output_type": "execute_result"
    }
   ],
   "source": [
    "data.dtypes"
   ]
  },
  {
   "cell_type": "markdown",
   "metadata": {},
   "source": [
    "#### Data Preparation"
   ]
  },
  {
   "cell_type": "code",
   "execution_count": 8,
   "metadata": {},
   "outputs": [],
   "source": [
    "# Splitting the dependent and independent variables\n",
    "x = data.iloc[:, :-1].values\n",
    "y = data.iloc[:, -1].values"
   ]
  },
  {
   "cell_type": "code",
   "execution_count": 9,
   "metadata": {},
   "outputs": [
    {
     "name": "stdout",
     "output_type": "stream",
     "text": [
      "The shape of the independent variable x is:  (1000, 12)\n",
      "The shape of the dependent variable y is:  (1000,)\n"
     ]
    }
   ],
   "source": [
    "print('The shape of the independent variable x is: ', x.shape)\n",
    "print('The shape of the dependent variable y is: ', y.shape)"
   ]
  },
  {
   "cell_type": "code",
   "execution_count": 10,
   "metadata": {},
   "outputs": [
    {
     "name": "stdout",
     "output_type": "stream",
     "text": [
      "xtrain:  (750, 12)\n",
      "xtest:  (250, 12)\n",
      "ytrain:  (750,)\n",
      "ytest:  (250,)\n"
     ]
    }
   ],
   "source": [
    "# Splitting the dataset into training and testing sets\n",
    "xtrain, xtest, ytrain, ytest = train_test_split(x,y, random_state = 0, test_size = .25)\n",
    "\n",
    "print('xtrain: ', xtrain.shape)\n",
    "print('xtest: ', xtest.shape)\n",
    "print('ytrain: ', ytrain.shape)\n",
    "print('ytest: ', ytest.shape)"
   ]
  },
  {
   "cell_type": "code",
   "execution_count": 11,
   "metadata": {},
   "outputs": [],
   "source": [
    "# Creating a scaler\n",
    "mm = MinMaxScaler()\n",
    "\n",
    "xtrain = mm.fit_transform(xtrain)\n",
    "xtest = mm.transform(xtest)"
   ]
  },
  {
   "cell_type": "markdown",
   "metadata": {},
   "source": [
    "#### Modeling\n",
    "##### Logistic Regression"
   ]
  },
  {
   "cell_type": "code",
   "execution_count": 12,
   "metadata": {},
   "outputs": [
    {
     "name": "stdout",
     "output_type": "stream",
     "text": [
      "Training Accuracy : 0.98\n",
      "Testing Accuracy : 0.98\n",
      "Accuracy of the model:  0.98\n",
      "Confusion Matrix: \n"
     ]
    },
    {
     "data": {
      "text/plain": [
       "array([[ 20,   2],\n",
       "       [  3, 225]], dtype=int64)"
      ]
     },
     "execution_count": 12,
     "metadata": {},
     "output_type": "execute_result"
    }
   ],
   "source": [
    "# Create a model\n",
    "lr = LogisticRegression(random_state=0, )\n",
    "\n",
    "# Feeding the training data to the model\n",
    "lr.fit(xtrain, ytrain)\n",
    "\n",
    "# Prediction\n",
    "ypred = lr.predict(xtest)\n",
    "\n",
    "# calculating the classification accuracies\n",
    "print(\"Training Accuracy :\", lr.score(xtrain, ytrain))\n",
    "print(\"Testing Accuracy :\", lr.score(xtest, ytest))\n",
    "aslog = accuracy_score(ytest, ypred)\n",
    "print('Accuracy of the model: ', aslog)\n",
    "print('Confusion Matrix: ')\n",
    "confusion_matrix(ytest, ypred)"
   ]
  },
  {
   "cell_type": "markdown",
   "metadata": {},
   "source": [
    "##### Random Forest"
   ]
  },
  {
   "cell_type": "code",
   "execution_count": 13,
   "metadata": {},
   "outputs": [
    {
     "name": "stdout",
     "output_type": "stream",
     "text": [
      "Training Accuracy : 1.0\n",
      "Testing Accuracy : 0.996\n",
      "Accuracy of the model:  0.996\n",
      "Confusion Matrix: \n"
     ]
    },
    {
     "data": {
      "text/plain": [
       "array([[ 22,   0],\n",
       "       [  1, 227]], dtype=int64)"
      ]
     },
     "execution_count": 13,
     "metadata": {},
     "output_type": "execute_result"
    }
   ],
   "source": [
    "# Creating a model\n",
    "rf = RandomForestClassifier(n_estimators=10, random_state=0, criterion='entropy')\n",
    "\n",
    "# Feeding the training data to the model\n",
    "rf.fit(xtrain, ytrain)\n",
    "\n",
    "# Prediction\n",
    "ypred = rf.predict(xtest)\n",
    "\n",
    "# calculating the accuracies\n",
    "print(\"Training Accuracy :\", rf.score(xtrain, ytrain))\n",
    "print(\"Testing Accuracy :\", rf.score(xtest, ytest))\n",
    "print('Accuracy of the model: ', accuracy_score(ytest, ypred))\n",
    "print('Confusion Matrix: ')\n",
    "confusion_matrix(ytest, ypred)"
   ]
  },
  {
   "cell_type": "code",
   "execution_count": 14,
   "metadata": {},
   "outputs": [
    {
     "name": "stdout",
     "output_type": "stream",
     "text": [
      "Training Accuracy : 1.0\n",
      "Testing Accuracy : 1.0\n",
      "Accuracy of the model:  1.0\n",
      "Confusion Matrix: \n"
     ]
    },
    {
     "data": {
      "text/plain": [
       "array([[ 22,   0],\n",
       "       [  0, 228]], dtype=int64)"
      ]
     },
     "execution_count": 14,
     "metadata": {},
     "output_type": "execute_result"
    }
   ],
   "source": [
    "# Creating a model\n",
    "rf = RandomForestClassifier(n_estimators=100, random_state=0, criterion='entropy')\n",
    "\n",
    "# Feeding the training data to the model\n",
    "rf.fit(xtrain, ytrain)\n",
    "\n",
    "# Prediction\n",
    "ypred = rf.predict(xtest)\n",
    "\n",
    "# calculating the accuracies\n",
    "print(\"Training Accuracy :\", rf.score(xtrain, ytrain))\n",
    "print(\"Testing Accuracy :\", rf.score(xtest, ytest))\n",
    "asrf = accuracy_score(ytest, ypred)\n",
    "print('Accuracy of the model: ', asrf)\n",
    "print('Confusion Matrix: ')\n",
    "confusion_matrix(ytest, ypred)"
   ]
  },
  {
   "cell_type": "markdown",
   "metadata": {},
   "source": [
    "##### K-Nearest Neighbor(KNN)"
   ]
  },
  {
   "cell_type": "code",
   "execution_count": 15,
   "metadata": {},
   "outputs": [
    {
     "name": "stdout",
     "output_type": "stream",
     "text": [
      "Training Accuracy : 0.98\n",
      "Testing Accuracy : 0.98\n"
     ]
    }
   ],
   "source": [
    "# Creating a model\n",
    "knn = KNeighborsClassifier(n_neighbors=5, metric='euclidean')\n",
    "\n",
    "# Feeding the training data to the model\n",
    "knn.fit(xtrain, ytrain)\n",
    "\n",
    "# Prediction\n",
    "ypred = knn.predict(xtest)\n",
    "\n",
    "# calculating the accuracies\n",
    "print(\"Training Accuracy :\", knn.score(xtrain, ytrain))\n",
    "print(\"Testing Accuracy :\", knn.score(xtest, ytest))"
   ]
  },
  {
   "cell_type": "code",
   "execution_count": 16,
   "metadata": {},
   "outputs": [
    {
     "name": "stdout",
     "output_type": "stream",
     "text": [
      "Prediction performance of KNN with K of 1 is 0.972\n",
      "Prediction performance of KNN with K of 2 is 0.972\n",
      "Prediction performance of KNN with K of 3 is 0.98\n",
      "Prediction performance of KNN with K of 4 is 0.98\n",
      "Prediction performance of KNN with K of 5 is 0.98\n",
      "Prediction performance of KNN with K of 6 is 0.98\n",
      "Prediction performance of KNN with K of 7 is 0.976\n",
      "Prediction performance of KNN with K of 8 is 0.98\n",
      "Prediction performance of KNN with K of 9 is 0.98\n",
      "Prediction performance of KNN with K of 10 is 0.98\n",
      "Prediction performance of KNN with K of 15 is 0.976\n",
      "Prediction performance of KNN with K of 20 is 0.976\n"
     ]
    }
   ],
   "source": [
    "# Evaluate different k values \n",
    "k_val = [1,2,3,4,5,6,7,8,9,10,15,20]\n",
    "\n",
    "for i in k_val:\n",
    "    knn = KNeighborsClassifier(n_neighbors=i, metric='euclidean')\n",
    "    knn.fit(xtrain, ytrain)\n",
    "    ypred = knn.predict(xtest)\n",
    "    accuracy = accuracy_score(ytest, ypred)\n",
    "    print('Prediction performance of KNN with K of {} is {}'.format(i, accuracy))"
   ]
  },
  {
   "cell_type": "code",
   "execution_count": 17,
   "metadata": {},
   "outputs": [
    {
     "data": {
      "text/plain": [
       "15.811388300841896"
      ]
     },
     "execution_count": 17,
     "metadata": {},
     "output_type": "execute_result"
    }
   ],
   "source": [
    "# Compute the sqrt\n",
    "math.sqrt(len(ytest))"
   ]
  },
  {
   "cell_type": "code",
   "execution_count": 18,
   "metadata": {},
   "outputs": [
    {
     "name": "stdout",
     "output_type": "stream",
     "text": [
      "Training Accuracy : 0.9786666666666667\n",
      "Testing Accuracy : 0.98\n",
      "Accuracy of the model:0.98\n"
     ]
    }
   ],
   "source": [
    "# Creating a model\n",
    "knn = KNeighborsClassifier(n_neighbors=16, metric='euclidean')\n",
    "\n",
    "# Feeding the training data to the model\n",
    "knn.fit(xtrain, ytrain)\n",
    "\n",
    "# Prediction\n",
    "ypred = knn.predict(xtest)\n",
    "\n",
    "# calculating the accuracies of training and testing datasets\n",
    "print(\"Training Accuracy :\", knn.score(xtrain, ytrain))\n",
    "print(\"Testing Accuracy :\", knn.score(xtest, ytest))\n",
    "\n",
    "# Calculate the accuracy of the model\n",
    "asknn = accuracy_score(ytest, ypred)\n",
    "print('Accuracy of the model:{}'.format(asknn))"
   ]
  },
  {
   "cell_type": "markdown",
   "metadata": {},
   "source": [
    "##### Decision Tree"
   ]
  },
  {
   "cell_type": "code",
   "execution_count": 19,
   "metadata": {},
   "outputs": [
    {
     "name": "stdout",
     "output_type": "stream",
     "text": [
      "Training Accuracy : 1.0\n",
      "Testing Accuracy : 1.0\n",
      "Accurac of the model:  1.0\n"
     ]
    }
   ],
   "source": [
    "# Creating the model\n",
    "dt = DecisionTreeClassifier(criterion='entropy',random_state=0)\n",
    "\n",
    "# Feeding the training data to the model\n",
    "dt.fit(xtrain, ytrain)\n",
    "\n",
    "# prediction\n",
    "ypred = dt.predict(xtest)\n",
    "\n",
    "# calculating the accuracies\n",
    "print(\"Training Accuracy :\", dt.score(xtrain, ytrain))\n",
    "print(\"Testing Accuracy :\", dt.score(xtest, ytest))\n",
    "asdt = accuracy_score(ytest, ypred)\n",
    "print('Accurac of the model: ', asdt)"
   ]
  },
  {
   "cell_type": "code",
   "execution_count": 20,
   "metadata": {},
   "outputs": [
    {
     "name": "stdout",
     "output_type": "stream",
     "text": [
      "Accuracy with depth of 1 is 1.0\n",
      "Accuracy with depth of 2 is 1.0\n",
      "Accuracy with depth of 3 is 1.0\n",
      "Accuracy with depth of 4 is 1.0\n",
      "Accuracy with depth of 5 is 1.0\n",
      "Accuracy with depth of 6 is 1.0\n",
      "Accuracy with depth of 7 is 1.0\n",
      "Accuracy with depth of 8 is 1.0\n",
      "Accuracy with depth of 9 is 1.0\n",
      "Accuracy with depth of 10 is 1.0\n",
      "Accuracy with depth of 15 is 1.0\n",
      "Accuracy with depth of 20 is 1.0\n"
     ]
    }
   ],
   "source": [
    "# Decision Tree - Different depth\n",
    "depth = [1,2,3,4,5,6,7,8,9,10,15,20]\n",
    "\n",
    "for i in depth:\n",
    "    dt = DecisionTreeClassifier(criterion='entropy',random_state=0, max_depth=i)\n",
    "    dt.fit(xtrain, ytrain)\n",
    "    ypred = dt.predict(xtest)\n",
    "    accuracy = accuracy_score(ytest, ypred)\n",
    "    print('Accuracy with depth of {} is {}'.format(i, accuracy))"
   ]
  },
  {
   "cell_type": "code",
   "execution_count": 21,
   "metadata": {},
   "outputs": [
    {
     "name": "stdout",
     "output_type": "stream",
     "text": [
      "Logistic Regression\n",
      "The accuracy score of the model is: 98.0%\n",
      "\n",
      "Desicion Tree\n",
      "The accuracy score of the model is: 100.0%\n",
      "\n",
      "Random Forest\n",
      "The accuracy score of the model is: 100.0%\n",
      "\n",
      "KNN\n",
      "The accuracy score of the model is: 98.0%\n"
     ]
    }
   ],
   "source": [
    "# Print the accuracy score for each model\n",
    "print('Logistic Regression')\n",
    "print('The accuracy score of the model is: {}%'.format(aslog*100))\n",
    "\n",
    "print('\\nDesicion Tree')\n",
    "print('The accuracy score of the model is: {}%'.format(asdt*100))\n",
    "\n",
    "print('\\nRandom Forest')\n",
    "print('The accuracy score of the model is: {}%'.format(asrf*100))\n",
    "\n",
    "print('\\nKNN')\n",
    "print('The accuracy score of the model is: {}%'.format(asknn*100))"
   ]
  }
 ],
 "metadata": {
  "kernelspec": {
   "display_name": "Python 3",
   "language": "python",
   "name": "python3"
  },
  "language_info": {
   "codemirror_mode": {
    "name": "ipython",
    "version": 3
   },
   "file_extension": ".py",
   "mimetype": "text/x-python",
   "name": "python",
   "nbconvert_exporter": "python",
   "pygments_lexer": "ipython3",
   "version": "3.7.4"
  }
 },
 "nbformat": 4,
 "nbformat_minor": 4
}
